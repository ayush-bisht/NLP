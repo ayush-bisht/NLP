{
 "cells": [
  {
   "cell_type": "code",
   "execution_count": 1,
   "metadata": {},
   "outputs": [],
   "source": [
    "import spacy"
   ]
  },
  {
   "cell_type": "code",
   "execution_count": 2,
   "metadata": {},
   "outputs": [],
   "source": [
    "nlp = spacy.load(\"en_core_web_sm\")"
   ]
  },
  {
   "cell_type": "code",
   "execution_count": 3,
   "metadata": {},
   "outputs": [
    {
     "data": {
      "text/plain": [
       "[('tagger', <spacy.pipeline.pipes.Tagger at 0x11de33790>),\n",
       " ('parser', <spacy.pipeline.pipes.DependencyParser at 0x11dd16d00>),\n",
       " ('ner', <spacy.pipeline.pipes.EntityRecognizer at 0x11dd16ca0>)]"
      ]
     },
     "execution_count": 3,
     "metadata": {},
     "output_type": "execute_result"
    }
   ],
   "source": [
    "nlp.pipeline"
   ]
  },
  {
   "cell_type": "code",
   "execution_count": 4,
   "metadata": {},
   "outputs": [],
   "source": [
    "nlp = spacy.load(\"en_core_web_sm\", disable=['ner'])"
   ]
  },
  {
   "cell_type": "code",
   "execution_count": 5,
   "metadata": {},
   "outputs": [
    {
     "data": {
      "text/plain": [
       "[('tagger', <spacy.pipeline.pipes.Tagger at 0x11ee97af0>),\n",
       " ('parser', <spacy.pipeline.pipes.DependencyParser at 0x11d9f4a00>)]"
      ]
     },
     "execution_count": 5,
     "metadata": {},
     "output_type": "execute_result"
    }
   ],
   "source": [
    "nlp.pipeline"
   ]
  },
  {
   "cell_type": "code",
   "execution_count": 6,
   "metadata": {},
   "outputs": [
    {
     "data": {
      "text/plain": [
       "['tagger', 'parser']"
      ]
     },
     "execution_count": 6,
     "metadata": {},
     "output_type": "execute_result"
    }
   ],
   "source": [
    "nlp.pipe_names\n"
   ]
  },
  {
   "cell_type": "code",
   "execution_count": 7,
   "metadata": {},
   "outputs": [],
   "source": [
    "text = \"What kind of sentence is this?\"\n"
   ]
  },
  {
   "cell_type": "code",
   "execution_count": 8,
   "metadata": {},
   "outputs": [],
   "source": [
    "doc = nlp(text)\n"
   ]
  },
  {
   "cell_type": "code",
   "execution_count": 9,
   "metadata": {},
   "outputs": [],
   "source": [
    "parse = [(t.i, t, t.pos_, t.tag_, t.dep_, t.head) for t in doc]\n"
   ]
  },
  {
   "cell_type": "code",
   "execution_count": 10,
   "metadata": {},
   "outputs": [
    {
     "data": {
      "text/plain": [
       "[(0, What, 'DET', 'WDT', 'det', kind),\n",
       " (1, kind, 'NOUN', 'NN', 'attr', is),\n",
       " (2, of, 'ADP', 'IN', 'prep', kind),\n",
       " (3, sentence, 'NOUN', 'NN', 'pobj', of),\n",
       " (4, is, 'AUX', 'VBZ', 'ROOT', is),\n",
       " (5, this, 'DET', 'DT', 'nsubj', is),\n",
       " (6, ?, 'PUNCT', '.', 'punct', is)]"
      ]
     },
     "execution_count": 10,
     "metadata": {},
     "output_type": "execute_result"
    }
   ],
   "source": [
    "parse"
   ]
  },
  {
   "cell_type": "code",
   "execution_count": 11,
   "metadata": {},
   "outputs": [],
   "source": [
    "def is_wh_question_v1(doc):\n",
    "    wh_phrases = [\"what\", \"where\", \"when\", \"who\", \"whom\", \"how\", \"why\"]\n",
    "    sent_init_token = doc[0]\n",
    "    return sent_init_token.text in wh_phrases\n",
    "\n",
    "def is_polar_question_v1(doc):\n",
    "    sent_init_token = doc[0]\n",
    "    return sent_init_token.dep_ == \"aux\"  # covers both auxiliary & modal verbs"
   ]
  },
  {
   "cell_type": "code",
   "execution_count": 12,
   "metadata": {},
   "outputs": [],
   "source": [
    "def is_wh_question_v2(doc):\n",
    "    # \"What is your name?\"\n",
    "    wh_tags = [\"WDT\", \"WP\", \"WP$\", \"WRB\"]\n",
    "    wh_words = [t for t in doc if t.tag_ in wh_tags]\n",
    "    sent_initial_is_wh = wh_words and wh_words[0].i == 0\n",
    "\n",
    "    # Include pied-piped constructions: \"To whom did she read the article?\"\n",
    "    pied_piped = wh_words and wh_words[0].head.dep_ == \"prep\"\n",
    "\n",
    "    # Exclude pseudoclefts: \"What you say is impossible.\"\n",
    "    pseudocleft = wh_words and wh_words[0].head.dep_ in [\"csubj\", \"advcl\"]\n",
    "    if pseudocleft:\n",
    "        return False\n",
    "\n",
    "    return sent_initial_is_wh or pied_piped\n"
   ]
  },
  {
   "cell_type": "code",
   "execution_count": 13,
   "metadata": {},
   "outputs": [],
   "source": [
    "def _is_subject(tok):\n",
    "    subject_deps = {\"csubj\", \"nsubj\", \"nsubjpass\"}\n",
    "    return tok.dep_ in subject_deps\n",
    "\n",
    "def is_polar_question_v2(doc):\n",
    "    root = [t for t in doc if t.dep_ == \"ROOT\"][0]  # every spaCy parse as a root token!\n",
    "    subj = [t for t in root.children if _is_subject(t)]\n",
    "\n",
    "    if is_wh_question_v2(doc):\n",
    "        return False\n",
    "\n",
    "    # Type I: In a non-copular sentence, \"is\" is an aux.\n",
    "    # \"Is she using spaCy?\" or \"Can you read that article?\"\n",
    "    aux = [t for t in root.lefts if t.dep_ == \"aux\"]\n",
    "    if subj and aux:\n",
    "        return aux[0].i < subj[0].i\n",
    "\n",
    "    # Type II: In a copular sentence, \"is\" is the main verb.\n",
    "    # \"Is the mouse dead?\"\n",
    "    root_is_inflected_copula = root.pos_ == \"VERB\" and root.tag_ != \"VB\"\n",
    "    if subj and root_is_inflected_copula:\n",
    "        return root.i < subj[0].i\n",
    "\n",
    "    return False\n"
   ]
  },
  {
   "cell_type": "code",
   "execution_count": 14,
   "metadata": {},
   "outputs": [],
   "source": [
    "def get_question_type(sentences):\n",
    "    for sent in sentences:\n",
    "        doc = nlp(sent)\n",
    "        is_wh = is_wh_question_v2(doc)\n",
    "        is_polar = is_polar_question_v2(doc)\n",
    "        if is_wh:\n",
    "            print(sent, \"-- wh\")\n",
    "        elif is_polar:\n",
    "            print(sent, \"-- polar\")\n",
    "        else:\n",
    "            print(sent, \"-- not a question\")\n"
   ]
  },
  {
   "cell_type": "code",
   "execution_count": 17,
   "metadata": {},
   "outputs": [],
   "source": [
    "sentences = [\"Is that for real?\", \"Can you stop?\", \"Do you love John?\", \"How do you know him?\"]"
   ]
  },
  {
   "cell_type": "code",
   "execution_count": 18,
   "metadata": {},
   "outputs": [
    {
     "name": "stdout",
     "output_type": "stream",
     "text": [
      "Is that for real? -- not a question\n",
      "Can you stop? -- polar\n",
      "Do you love John? -- polar\n",
      "How do you know him? -- wh\n"
     ]
    }
   ],
   "source": [
    "get_question_type(sentences)"
   ]
  },
  {
   "cell_type": "code",
   "execution_count": null,
   "metadata": {},
   "outputs": [],
   "source": []
  }
 ],
 "metadata": {
  "kernelspec": {
   "display_name": "Python 3",
   "language": "python",
   "name": "python3"
  },
  "language_info": {
   "codemirror_mode": {
    "name": "ipython",
    "version": 3
   },
   "file_extension": ".py",
   "mimetype": "text/x-python",
   "name": "python",
   "nbconvert_exporter": "python",
   "pygments_lexer": "ipython3",
   "version": "3.8.5"
  }
 },
 "nbformat": 4,
 "nbformat_minor": 4
}

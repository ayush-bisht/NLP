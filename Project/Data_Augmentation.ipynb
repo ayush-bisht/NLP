{
 "cells": [
  {
   "cell_type": "code",
   "execution_count": 97,
   "metadata": {},
   "outputs": [],
   "source": [
    "import json"
   ]
  },
  {
   "cell_type": "code",
   "execution_count": 98,
   "metadata": {},
   "outputs": [],
   "source": [
    "d = json.load(open(\"dev-v2.0.json\"))"
   ]
  },
  {
   "cell_type": "code",
   "execution_count": 3,
   "metadata": {},
   "outputs": [],
   "source": [
    "contexts = []"
   ]
  },
  {
   "cell_type": "code",
   "execution_count": 4,
   "metadata": {},
   "outputs": [],
   "source": [
    "for x in d[\"data\"]:\n",
    "    for y in x[\"paragraphs\"]:\n",
    "        contexts.append(y[\"context\"])"
   ]
  },
  {
   "cell_type": "code",
   "execution_count": 5,
   "metadata": {},
   "outputs": [
    {
     "data": {
      "text/plain": [
       "1204"
      ]
     },
     "execution_count": 5,
     "metadata": {},
     "output_type": "execute_result"
    }
   ],
   "source": [
    "len(contexts)"
   ]
  },
  {
   "cell_type": "code",
   "execution_count": 17,
   "metadata": {},
   "outputs": [
    {
     "name": "stdout",
     "output_type": "stream",
     "text": [
      "The Normans (Norman: Nourmands; French: Normands; Latin: Normanni) were the people who in the 10th and 11th centuries gave their name to Normandy, a region in France. They were descended from Norse (\"Norman\" comes from \"Norseman\") raiders and pirates from Denmark, Iceland and Norway who, under their leader Rollo, agreed to swear fealty to King Charles III of West Francia. Through generations of assimilation and mixing with the native Frankish and Roman-Gaulish populations, their descendants would gradually merge with the Carolingian-based cultures of West Francia. The distinct cultural and ethnic identity of the Normans emerged initially in the first half of the 10th century, and it continued to evolve over the succeeding centuries.\n"
     ]
    }
   ],
   "source": [
    "print(contexts[0])"
   ]
  },
  {
   "cell_type": "code",
   "execution_count": 8,
   "metadata": {},
   "outputs": [],
   "source": [
    "#stop words list\n",
    "stop_words = ['i', 'me', 'my', 'myself', 'we', 'our', \n",
    "\t\t\t'ours', 'ourselves', 'you', 'your', 'yours', \n",
    "\t\t\t'yourself', 'yourselves', 'he', 'him', 'his', \n",
    "\t\t\t'himself', 'she', 'her', 'hers', 'herself', \n",
    "\t\t\t'it', 'its', 'itself', 'they', 'them', 'their', \n",
    "\t\t\t'theirs', 'themselves', 'what', 'which', 'who', \n",
    "\t\t\t'whom', 'this', 'that', 'these', 'those', 'am', \n",
    "\t\t\t'is', 'are', 'was', 'were', 'be', 'been', 'being', \n",
    "\t\t\t'have', 'has', 'had', 'having', 'do', 'does', 'did',\n",
    "\t\t\t'doing', 'a', 'an', 'the', 'and', 'but', 'if', 'or',\n",
    "\t\t\t'because', 'as', 'until', 'while', 'of', 'at', \n",
    "\t\t\t'by', 'for', 'with', 'about', 'against', 'between',\n",
    "\t\t\t'into', 'through', 'during', 'before', 'after', \n",
    "\t\t\t'above', 'below', 'to', 'from', 'up', 'down', 'in',\n",
    "\t\t\t'out', 'on', 'off', 'over', 'under', 'again', \n",
    "\t\t\t'further', 'then', 'once', 'here', 'there', 'when', \n",
    "\t\t\t'where', 'why', 'how', 'all', 'any', 'both', 'each', \n",
    "\t\t\t'few', 'more', 'most', 'other', 'some', 'such', 'no', \n",
    "\t\t\t'nor', 'not', 'only', 'own', 'same', 'so', 'than', 'too', \n",
    "\t\t\t'very', 's', 't', 'can', 'will', 'just', 'don', \n",
    "\t\t\t'should', 'now', '']"
   ]
  },
  {
   "cell_type": "code",
   "execution_count": 13,
   "metadata": {},
   "outputs": [],
   "source": [
    "import nltk\n",
    "from nltk.corpus import wordnet "
   ]
  },
  {
   "cell_type": "code",
   "execution_count": 14,
   "metadata": {},
   "outputs": [
    {
     "name": "stderr",
     "output_type": "stream",
     "text": [
      "[nltk_data] Downloading package wordnet to /Users/pyadla/nltk_data...\n",
      "[nltk_data]   Package wordnet is already up-to-date!\n"
     ]
    },
    {
     "data": {
      "text/plain": [
       "True"
      ]
     },
     "execution_count": 14,
     "metadata": {},
     "output_type": "execute_result"
    }
   ],
   "source": [
    "nltk.download('wordnet')"
   ]
  },
  {
   "cell_type": "code",
   "execution_count": 15,
   "metadata": {},
   "outputs": [],
   "source": [
    "def synonym_replacement(words, n):\n",
    "\tnew_words = words.copy()\n",
    "\trandom_word_list = list(set([word for word in words if word not in stop_words]))\n",
    "\trandom.shuffle(random_word_list)\n",
    "\tnum_replaced = 0\n",
    "\tfor random_word in random_word_list:\n",
    "\t\tsynonyms = get_synonyms(random_word)\n",
    "\t\tif len(synonyms) >= 1:\n",
    "\t\t\tsynonym = random.choice(list(synonyms))\n",
    "\t\t\tnew_words = [synonym if word == random_word else word for word in new_words]\n",
    "\t\t\t#print(\"replaced\", random_word, \"with\", synonym)\n",
    "\t\t\tnum_replaced += 1\n",
    "\t\tif num_replaced >= n: #only replace up to n words\n",
    "\t\t\tbreak\n",
    "\n",
    "\t#this is stupid but we need it, trust me\n",
    "\tsentence = ' '.join(new_words)\n",
    "\tnew_words = sentence.split(' ')\n",
    "\n",
    "\treturn new_words\n"
   ]
  },
  {
   "cell_type": "code",
   "execution_count": 72,
   "metadata": {},
   "outputs": [],
   "source": [
    "def get_synonyms(word):\n",
    "\tsynonyms = set()\n",
    "\tfor syn in wordnet.synsets(word): \n",
    "\t\tfor l in syn.lemmas(): \n",
    "\t\t\tsynonym = l.name().replace(\"_\", \" \").replace(\"-\", \" \").lower()\n",
    "\t\t\tsynonym = \"\".join([char for char in synonym if char in ' qwertyuiopasdfghjklzxcvbnm'])\n",
    "\t\t\tsynonyms.add(synonym) \n",
    "\tif word in synonyms:\n",
    "\t\tsynonyms.remove(word)\n",
    "\treturn list(synonyms)"
   ]
  },
  {
   "cell_type": "code",
   "execution_count": 18,
   "metadata": {},
   "outputs": [
    {
     "data": {
      "text/plain": [
       "['come',\n",
       " 'settle',\n",
       " 'go down',\n",
       " 'fall',\n",
       " 'come down',\n",
       " 'condescend',\n",
       " 'descend',\n",
       " 'derive',\n",
       " 'deign']"
      ]
     },
     "execution_count": 18,
     "metadata": {},
     "output_type": "execute_result"
    }
   ],
   "source": [
    "get_synonyms(\"descended\")"
   ]
  },
  {
   "cell_type": "code",
   "execution_count": 19,
   "metadata": {},
   "outputs": [],
   "source": [
    "import re\n",
    "def get_only_chars(line):\n",
    "\n",
    "    clean_line = \"\"\n",
    "\n",
    "    line = line.replace(\"’\", \"\")\n",
    "    line = line.replace(\"'\", \"\")\n",
    "    line = line.replace(\"-\", \" \") #replace hyphens with spaces\n",
    "    line = line.replace(\"\\t\", \" \")\n",
    "    line = line.replace(\"\\n\", \" \")\n",
    "    line = line.lower()\n",
    "\n",
    "    for char in line:\n",
    "        if char in 'qwertyuiopasdfghjklzxcvbnm ':\n",
    "            clean_line += char\n",
    "        else:\n",
    "            clean_line += ' '\n",
    "\n",
    "    clean_line = re.sub(' +',' ',clean_line) #delete extra spaces\n",
    "    if clean_line[0] == ' ':\n",
    "        clean_line = clean_line[1:]\n",
    "    return clean_line\n"
   ]
  },
  {
   "cell_type": "code",
   "execution_count": 20,
   "metadata": {},
   "outputs": [
    {
     "data": {
      "text/plain": [
       "'the normans norman nourmands french normands latin normanni were the people who in the th and th centuries gave their name to normandy a region in france they were descended from norse norman comes from norseman raiders and pirates from denmark iceland and norway who under their leader rollo agreed to swear fealty to king charles iii of west francia through generations of assimilation and mixing with the native frankish and roman gaulish populations their descendants would gradually merge with the carolingian based cultures of west francia the distinct cultural and ethnic identity of the normans emerged initially in the first half of the th century and it continued to evolve over the succeeding centuries '"
      ]
     },
     "execution_count": 20,
     "metadata": {},
     "output_type": "execute_result"
    }
   ],
   "source": [
    "get_only_chars(contexts[0])"
   ]
  },
  {
   "cell_type": "code",
   "execution_count": 21,
   "metadata": {},
   "outputs": [
    {
     "data": {
      "text/plain": [
       "'The Normans (Norman: Nourmands; French: Normands; Latin: Normanni) were the people who in the 10th and 11th centuries gave their name to Normandy, a region in France. They were descended from Norse (\"Norman\" comes from \"Norseman\") raiders and pirates from Denmark, Iceland and Norway who, under their leader Rollo, agreed to swear fealty to King Charles III of West Francia. Through generations of assimilation and mixing with the native Frankish and Roman-Gaulish populations, their descendants would gradually merge with the Carolingian-based cultures of West Francia. The distinct cultural and ethnic identity of the Normans emerged initially in the first half of the 10th century, and it continued to evolve over the succeeding centuries.'"
      ]
     },
     "execution_count": 21,
     "metadata": {},
     "output_type": "execute_result"
    }
   ],
   "source": [
    "contexts[0]"
   ]
  },
  {
   "cell_type": "code",
   "execution_count": 34,
   "metadata": {},
   "outputs": [],
   "source": [
    "from nltk.corpus import wordnet\n",
    "from nltk.tokenize import word_tokenize\n",
    "from random import randint\n",
    "import nltk.data"
   ]
  },
  {
   "cell_type": "code",
   "execution_count": 35,
   "metadata": {},
   "outputs": [],
   "source": [
    "text = \"Pete ate a large cake. Sam has a big mouth.\""
   ]
  },
  {
   "cell_type": "code",
   "execution_count": 40,
   "metadata": {},
   "outputs": [],
   "source": [
    "words = word_tokenize(contexts[0])"
   ]
  },
  {
   "cell_type": "code",
   "execution_count": 41,
   "metadata": {},
   "outputs": [
    {
     "data": {
      "text/plain": [
       "['The',\n",
       " 'Normans',\n",
       " '(',\n",
       " 'Norman',\n",
       " ':',\n",
       " 'Nourmands',\n",
       " ';',\n",
       " 'French',\n",
       " ':',\n",
       " 'Normands',\n",
       " ';',\n",
       " 'Latin',\n",
       " ':',\n",
       " 'Normanni',\n",
       " ')',\n",
       " 'were',\n",
       " 'the',\n",
       " 'people',\n",
       " 'who',\n",
       " 'in',\n",
       " 'the',\n",
       " '10th',\n",
       " 'and',\n",
       " '11th',\n",
       " 'centuries',\n",
       " 'gave',\n",
       " 'their',\n",
       " 'name',\n",
       " 'to',\n",
       " 'Normandy',\n",
       " ',',\n",
       " 'a',\n",
       " 'region',\n",
       " 'in',\n",
       " 'France',\n",
       " '.',\n",
       " 'They',\n",
       " 'were',\n",
       " 'descended',\n",
       " 'from',\n",
       " 'Norse',\n",
       " '(',\n",
       " '``',\n",
       " 'Norman',\n",
       " \"''\",\n",
       " 'comes',\n",
       " 'from',\n",
       " '``',\n",
       " 'Norseman',\n",
       " \"''\",\n",
       " ')',\n",
       " 'raiders',\n",
       " 'and',\n",
       " 'pirates',\n",
       " 'from',\n",
       " 'Denmark',\n",
       " ',',\n",
       " 'Iceland',\n",
       " 'and',\n",
       " 'Norway',\n",
       " 'who',\n",
       " ',',\n",
       " 'under',\n",
       " 'their',\n",
       " 'leader',\n",
       " 'Rollo',\n",
       " ',',\n",
       " 'agreed',\n",
       " 'to',\n",
       " 'swear',\n",
       " 'fealty',\n",
       " 'to',\n",
       " 'King',\n",
       " 'Charles',\n",
       " 'III',\n",
       " 'of',\n",
       " 'West',\n",
       " 'Francia',\n",
       " '.',\n",
       " 'Through',\n",
       " 'generations',\n",
       " 'of',\n",
       " 'assimilation',\n",
       " 'and',\n",
       " 'mixing',\n",
       " 'with',\n",
       " 'the',\n",
       " 'native',\n",
       " 'Frankish',\n",
       " 'and',\n",
       " 'Roman-Gaulish',\n",
       " 'populations',\n",
       " ',',\n",
       " 'their',\n",
       " 'descendants',\n",
       " 'would',\n",
       " 'gradually',\n",
       " 'merge',\n",
       " 'with',\n",
       " 'the',\n",
       " 'Carolingian-based',\n",
       " 'cultures',\n",
       " 'of',\n",
       " 'West',\n",
       " 'Francia',\n",
       " '.',\n",
       " 'The',\n",
       " 'distinct',\n",
       " 'cultural',\n",
       " 'and',\n",
       " 'ethnic',\n",
       " 'identity',\n",
       " 'of',\n",
       " 'the',\n",
       " 'Normans',\n",
       " 'emerged',\n",
       " 'initially',\n",
       " 'in',\n",
       " 'the',\n",
       " 'first',\n",
       " 'half',\n",
       " 'of',\n",
       " 'the',\n",
       " '10th',\n",
       " 'century',\n",
       " ',',\n",
       " 'and',\n",
       " 'it',\n",
       " 'continued',\n",
       " 'to',\n",
       " 'evolve',\n",
       " 'over',\n",
       " 'the',\n",
       " 'succeeding',\n",
       " 'centuries',\n",
       " '.']"
      ]
     },
     "execution_count": 41,
     "metadata": {},
     "output_type": "execute_result"
    }
   ],
   "source": [
    "words"
   ]
  },
  {
   "cell_type": "code",
   "execution_count": 42,
   "metadata": {},
   "outputs": [],
   "source": [
    "tagged = nltk.pos_tag(words)"
   ]
  },
  {
   "cell_type": "code",
   "execution_count": 43,
   "metadata": {},
   "outputs": [
    {
     "data": {
      "text/plain": [
       "[('The', 'DT'),\n",
       " ('Normans', 'NNPS'),\n",
       " ('(', '('),\n",
       " ('Norman', 'NNP'),\n",
       " (':', ':'),\n",
       " ('Nourmands', 'NNS'),\n",
       " (';', ':'),\n",
       " ('French', 'JJ'),\n",
       " (':', ':'),\n",
       " ('Normands', 'NNS'),\n",
       " (';', ':'),\n",
       " ('Latin', 'NNP'),\n",
       " (':', ':'),\n",
       " ('Normanni', 'NN'),\n",
       " (')', ')'),\n",
       " ('were', 'VBD'),\n",
       " ('the', 'DT'),\n",
       " ('people', 'NNS'),\n",
       " ('who', 'WP'),\n",
       " ('in', 'IN'),\n",
       " ('the', 'DT'),\n",
       " ('10th', 'CD'),\n",
       " ('and', 'CC'),\n",
       " ('11th', 'CD'),\n",
       " ('centuries', 'NNS'),\n",
       " ('gave', 'VBD'),\n",
       " ('their', 'PRP$'),\n",
       " ('name', 'NN'),\n",
       " ('to', 'TO'),\n",
       " ('Normandy', 'NNP'),\n",
       " (',', ','),\n",
       " ('a', 'DT'),\n",
       " ('region', 'NN'),\n",
       " ('in', 'IN'),\n",
       " ('France', 'NNP'),\n",
       " ('.', '.'),\n",
       " ('They', 'PRP'),\n",
       " ('were', 'VBD'),\n",
       " ('descended', 'VBN'),\n",
       " ('from', 'IN'),\n",
       " ('Norse', 'NNP'),\n",
       " ('(', '('),\n",
       " ('``', '``'),\n",
       " ('Norman', 'NNP'),\n",
       " (\"''\", \"''\"),\n",
       " ('comes', 'VBZ'),\n",
       " ('from', 'IN'),\n",
       " ('``', '``'),\n",
       " ('Norseman', 'NNP'),\n",
       " (\"''\", \"''\"),\n",
       " (')', ')'),\n",
       " ('raiders', 'NNS'),\n",
       " ('and', 'CC'),\n",
       " ('pirates', 'NNS'),\n",
       " ('from', 'IN'),\n",
       " ('Denmark', 'NNP'),\n",
       " (',', ','),\n",
       " ('Iceland', 'NNP'),\n",
       " ('and', 'CC'),\n",
       " ('Norway', 'NNP'),\n",
       " ('who', 'WP'),\n",
       " (',', ','),\n",
       " ('under', 'IN'),\n",
       " ('their', 'PRP$'),\n",
       " ('leader', 'NN'),\n",
       " ('Rollo', 'NNP'),\n",
       " (',', ','),\n",
       " ('agreed', 'VBD'),\n",
       " ('to', 'TO'),\n",
       " ('swear', 'VB'),\n",
       " ('fealty', 'NN'),\n",
       " ('to', 'TO'),\n",
       " ('King', 'NNP'),\n",
       " ('Charles', 'NNP'),\n",
       " ('III', 'NNP'),\n",
       " ('of', 'IN'),\n",
       " ('West', 'NNP'),\n",
       " ('Francia', 'NNP'),\n",
       " ('.', '.'),\n",
       " ('Through', 'IN'),\n",
       " ('generations', 'NNS'),\n",
       " ('of', 'IN'),\n",
       " ('assimilation', 'NN'),\n",
       " ('and', 'CC'),\n",
       " ('mixing', 'VBG'),\n",
       " ('with', 'IN'),\n",
       " ('the', 'DT'),\n",
       " ('native', 'JJ'),\n",
       " ('Frankish', 'NNP'),\n",
       " ('and', 'CC'),\n",
       " ('Roman-Gaulish', 'JJ'),\n",
       " ('populations', 'NNS'),\n",
       " (',', ','),\n",
       " ('their', 'PRP$'),\n",
       " ('descendants', 'NNS'),\n",
       " ('would', 'MD'),\n",
       " ('gradually', 'RB'),\n",
       " ('merge', 'VB'),\n",
       " ('with', 'IN'),\n",
       " ('the', 'DT'),\n",
       " ('Carolingian-based', 'JJ'),\n",
       " ('cultures', 'NNS'),\n",
       " ('of', 'IN'),\n",
       " ('West', 'NNP'),\n",
       " ('Francia', 'NNP'),\n",
       " ('.', '.'),\n",
       " ('The', 'DT'),\n",
       " ('distinct', 'JJ'),\n",
       " ('cultural', 'JJ'),\n",
       " ('and', 'CC'),\n",
       " ('ethnic', 'JJ'),\n",
       " ('identity', 'NN'),\n",
       " ('of', 'IN'),\n",
       " ('the', 'DT'),\n",
       " ('Normans', 'NNPS'),\n",
       " ('emerged', 'VBD'),\n",
       " ('initially', 'RB'),\n",
       " ('in', 'IN'),\n",
       " ('the', 'DT'),\n",
       " ('first', 'JJ'),\n",
       " ('half', 'NN'),\n",
       " ('of', 'IN'),\n",
       " ('the', 'DT'),\n",
       " ('10th', 'JJ'),\n",
       " ('century', 'NN'),\n",
       " (',', ','),\n",
       " ('and', 'CC'),\n",
       " ('it', 'PRP'),\n",
       " ('continued', 'VBD'),\n",
       " ('to', 'TO'),\n",
       " ('evolve', 'VB'),\n",
       " ('over', 'IN'),\n",
       " ('the', 'DT'),\n",
       " ('succeeding', 'JJ'),\n",
       " ('centuries', 'NNS'),\n",
       " ('.', '.')]"
      ]
     },
     "execution_count": 43,
     "metadata": {},
     "output_type": "execute_result"
    }
   ],
   "source": [
    "tagged"
   ]
  },
  {
   "cell_type": "code",
   "execution_count": 49,
   "metadata": {},
   "outputs": [
    {
     "data": {
      "text/plain": [
       "':'"
      ]
     },
     "execution_count": 49,
     "metadata": {},
     "output_type": "execute_result"
    }
   ],
   "source": [
    "words[4]"
   ]
  },
  {
   "cell_type": "code",
   "execution_count": 54,
   "metadata": {},
   "outputs": [
    {
     "name": "stdout",
     "output_type": "stream",
     "text": [
      "non :-  The\n",
      "non :-  Normans\n",
      "(\n",
      "non :-  Norman\n",
      ":\n",
      "non :-  Nourmands\n",
      ";\n",
      "non :-  French\n",
      ":\n",
      "non :-  Normands\n",
      ";\n",
      "non :-  Latin\n",
      ":\n",
      "non :-  Normanni\n",
      ")\n",
      "non :-  were\n",
      "non :-  the\n",
      "non :-  people\n",
      "non :-  who\n",
      "non :-  in\n",
      "non :-  the\n",
      "non :-  10th\n",
      "non :-  and\n",
      "non :-  11th\n",
      "non :-  centuries\n",
      "non :-  gave\n",
      "non :-  their\n",
      "non :-  name\n",
      "non :-  to\n",
      "non :-  Normandy\n",
      ",\n",
      "non :-  a\n",
      "non :-  region\n",
      "non :-  in\n",
      "non :-  France\n",
      ".\n",
      "non :-  They\n",
      "non :-  were\n",
      "non :-  descended\n",
      "non :-  from\n",
      "non :-  Norse\n",
      "(\n",
      "``\n",
      "non :-  Norman\n",
      "''\n",
      "non :-  comes\n",
      "non :-  from\n",
      "``\n",
      "non :-  Norseman\n",
      "''\n",
      ")\n",
      "non :-  raiders\n",
      "non :-  and\n",
      "non :-  pirates\n",
      "non :-  from\n",
      "non :-  Denmark\n",
      ",\n",
      "non :-  Iceland\n",
      "non :-  and\n",
      "non :-  Norway\n",
      "non :-  who\n",
      ",\n",
      "non :-  under\n",
      "non :-  their\n",
      "non :-  leader\n",
      "non :-  Rollo\n",
      ",\n",
      "non :-  agreed\n",
      "non :-  to\n",
      "non :-  swear\n",
      "non :-  fealty\n",
      "non :-  to\n",
      "non :-  King\n",
      "non :-  Charles\n",
      "non :-  III\n",
      "non :-  of\n",
      "non :-  West\n",
      "non :-  Francia\n",
      ".\n",
      "non :-  Through\n",
      "non :-  generations\n",
      "non :-  of\n",
      "non :-  assimilation\n",
      "non :-  and\n",
      "non :-  mixing\n",
      "non :-  with\n",
      "non :-  the\n",
      "non :-  native\n",
      "non :-  Frankish\n",
      "non :-  and\n",
      "non :-  Roman-Gaulish\n",
      "non :-  populations\n",
      ",\n",
      "non :-  their\n",
      "non :-  descendants\n",
      "non :-  would\n",
      "non :-  gradually\n",
      "non :-  merge\n",
      "non :-  with\n",
      "non :-  the\n",
      "non :-  Carolingian-based\n",
      "non :-  cultures\n",
      "non :-  of\n",
      "non :-  West\n",
      "non :-  Francia\n",
      ".\n",
      "non :-  The\n",
      "non :-  distinct\n",
      "non :-  cultural\n",
      "non :-  and\n",
      "non :-  ethnic\n",
      "non :-  identity\n",
      "non :-  of\n",
      "non :-  the\n",
      "non :-  Normans\n",
      "non :-  emerged\n",
      "non :-  initially\n",
      "non :-  in\n",
      "non :-  the\n",
      "non :-  first\n",
      "non :-  half\n",
      "non :-  of\n",
      "non :-  the\n",
      "non :-  10th\n",
      "non :-  century\n",
      ",\n",
      "non :-  and\n",
      "non :-  it\n",
      "non :-  continued\n",
      "non :-  to\n",
      "non :-  evolve\n",
      "non :-  over\n",
      "non :-  the\n",
      "non :-  succeeding\n",
      "non :-  centuries\n",
      ".\n"
     ]
    }
   ],
   "source": [
    "import string\n",
    "\n",
    "for word in words:\n",
    "    if(word[0] in string.punctuation):\n",
    "        print(word)\n",
    "    else:\n",
    "        print(\"non :- \", word)\n"
   ]
  },
  {
   "cell_type": "code",
   "execution_count": 53,
   "metadata": {},
   "outputs": [
    {
     "data": {
      "text/plain": [
       "['harmonise',\n",
       " 'agree',\n",
       " 'consort',\n",
       " 'in agreement',\n",
       " 'check',\n",
       " 'jibe',\n",
       " 'correspond',\n",
       " 'harmonize',\n",
       " 'match',\n",
       " 'hold',\n",
       " 'accord',\n",
       " 'concord',\n",
       " 'fit in',\n",
       " 'gibe',\n",
       " 'fit',\n",
       " 'concur',\n",
       " 'tally']"
      ]
     },
     "execution_count": 53,
     "metadata": {},
     "output_type": "execute_result"
    }
   ],
   "source": [
    "get_synonyms(\"agreed\")"
   ]
  },
  {
   "cell_type": "code",
   "execution_count": 55,
   "metadata": {},
   "outputs": [
    {
     "data": {
      "text/plain": [
       "['The',\n",
       " 'Normans',\n",
       " '(',\n",
       " 'Norman',\n",
       " ':',\n",
       " 'Nourmands',\n",
       " ';',\n",
       " 'French',\n",
       " ':',\n",
       " 'Normands',\n",
       " ';',\n",
       " 'Latin',\n",
       " ':',\n",
       " 'Normanni',\n",
       " ')',\n",
       " 'were',\n",
       " 'the',\n",
       " 'people',\n",
       " 'who',\n",
       " 'in',\n",
       " 'the',\n",
       " '10th',\n",
       " 'and',\n",
       " '11th',\n",
       " 'centuries',\n",
       " 'gave',\n",
       " 'their',\n",
       " 'name',\n",
       " 'to',\n",
       " 'Normandy',\n",
       " ',',\n",
       " 'a',\n",
       " 'region',\n",
       " 'in',\n",
       " 'France',\n",
       " '.',\n",
       " 'They',\n",
       " 'were',\n",
       " 'descended',\n",
       " 'from',\n",
       " 'Norse',\n",
       " '(',\n",
       " '``',\n",
       " 'Norman',\n",
       " \"''\",\n",
       " 'comes',\n",
       " 'from',\n",
       " '``',\n",
       " 'Norseman',\n",
       " \"''\",\n",
       " ')',\n",
       " 'raiders',\n",
       " 'and',\n",
       " 'pirates',\n",
       " 'from',\n",
       " 'Denmark',\n",
       " ',',\n",
       " 'Iceland',\n",
       " 'and',\n",
       " 'Norway',\n",
       " 'who',\n",
       " ',',\n",
       " 'under',\n",
       " 'their',\n",
       " 'leader',\n",
       " 'Rollo',\n",
       " ',',\n",
       " 'agreed',\n",
       " 'to',\n",
       " 'swear',\n",
       " 'fealty',\n",
       " 'to',\n",
       " 'King',\n",
       " 'Charles',\n",
       " 'III',\n",
       " 'of',\n",
       " 'West',\n",
       " 'Francia',\n",
       " '.',\n",
       " 'Through',\n",
       " 'generations',\n",
       " 'of',\n",
       " 'assimilation',\n",
       " 'and',\n",
       " 'mixing',\n",
       " 'with',\n",
       " 'the',\n",
       " 'native',\n",
       " 'Frankish',\n",
       " 'and',\n",
       " 'Roman-Gaulish',\n",
       " 'populations',\n",
       " ',',\n",
       " 'their',\n",
       " 'descendants',\n",
       " 'would',\n",
       " 'gradually',\n",
       " 'merge',\n",
       " 'with',\n",
       " 'the',\n",
       " 'Carolingian-based',\n",
       " 'cultures',\n",
       " 'of',\n",
       " 'West',\n",
       " 'Francia',\n",
       " '.',\n",
       " 'The',\n",
       " 'distinct',\n",
       " 'cultural',\n",
       " 'and',\n",
       " 'ethnic',\n",
       " 'identity',\n",
       " 'of',\n",
       " 'the',\n",
       " 'Normans',\n",
       " 'emerged',\n",
       " 'initially',\n",
       " 'in',\n",
       " 'the',\n",
       " 'first',\n",
       " 'half',\n",
       " 'of',\n",
       " 'the',\n",
       " '10th',\n",
       " 'century',\n",
       " ',',\n",
       " 'and',\n",
       " 'it',\n",
       " 'continued',\n",
       " 'to',\n",
       " 'evolve',\n",
       " 'over',\n",
       " 'the',\n",
       " 'succeeding',\n",
       " 'centuries',\n",
       " '.']"
      ]
     },
     "execution_count": 55,
     "metadata": {},
     "output_type": "execute_result"
    }
   ],
   "source": [
    "words"
   ]
  },
  {
   "cell_type": "code",
   "execution_count": 56,
   "metadata": {},
   "outputs": [
    {
     "data": {
      "text/plain": [
       "\"The Normans ( Norman : Nourmands ; French : Normands ; Latin : Normanni ) were the people who in the 10th and 11th centuries gave their name to Normandy , a region in France . They were descended from Norse ( `` Norman '' comes from `` Norseman '' ) raiders and pirates from Denmark , Iceland and Norway who , under their leader Rollo , agreed to swear fealty to King Charles III of West Francia . Through generations of assimilation and mixing with the native Frankish and Roman-Gaulish populations , their descendants would gradually merge with the Carolingian-based cultures of West Francia . The distinct cultural and ethnic identity of the Normans emerged initially in the first half of the 10th century , and it continued to evolve over the succeeding centuries .\""
      ]
     },
     "execution_count": 56,
     "metadata": {},
     "output_type": "execute_result"
    }
   ],
   "source": [
    "' '.join(words)"
   ]
  },
  {
   "cell_type": "code",
   "execution_count": 57,
   "metadata": {},
   "outputs": [],
   "source": [
    "from nltk.tokenize.treebank import TreebankWordDetokenizer\n"
   ]
  },
  {
   "cell_type": "code",
   "execution_count": 58,
   "metadata": {},
   "outputs": [
    {
     "data": {
      "text/plain": [
       "'The Normans (Norman: Nourmands; French: Normands; Latin: Normanni) were the people who in the 10th and 11th centuries gave their name to Normandy, a region in France . They were descended from Norse (`` Norman\"comes from``Norseman\") raiders and pirates from Denmark, Iceland and Norway who, under their leader Rollo, agreed to swear fealty to King Charles III of West Francia . Through generations of assimilation and mixing with the native Frankish and Roman-Gaulish populations, their descendants would gradually merge with the Carolingian-based cultures of West Francia . The distinct cultural and ethnic identity of the Normans emerged initially in the first half of the 10th century, and it continued to evolve over the succeeding centuries.'"
      ]
     },
     "execution_count": 58,
     "metadata": {},
     "output_type": "execute_result"
    }
   ],
   "source": [
    "TreebankWordDetokenizer().detokenize(words)"
   ]
  },
  {
   "cell_type": "code",
   "execution_count": 70,
   "metadata": {},
   "outputs": [
    {
     "name": "stdout",
     "output_type": "stream",
     "text": [
      "0\n"
     ]
    }
   ],
   "source": [
    "# for word in words:\n",
    "import random\n",
    "print(random.choice([0,0,0,0,0,1,1,1,1,1]))"
   ]
  },
  {
   "cell_type": "code",
   "execution_count": 80,
   "metadata": {},
   "outputs": [
    {
     "name": "stdout",
     "output_type": "stream",
     "text": [
      "Normans\n",
      "French\n",
      "Normands\n",
      "Normanni\n",
      "were\n",
      "people\n",
      "who\n",
      "11th\n",
      "centuries\n",
      "their\n",
      "name\n",
      "to\n",
      "region\n",
      "from\n",
      "and\n",
      "pirates\n",
      "who\n",
      "agreed\n",
      "to\n",
      "to\n",
      "of\n",
      "Through\n",
      "assimilation\n",
      "mixing\n",
      "with\n",
      "and\n",
      "descendants\n",
      "cultures\n",
      "of\n",
      "cultural\n",
      "identity\n",
      "emerged\n",
      "initially\n",
      "in\n",
      "of\n",
      "century\n",
      "and\n",
      "it\n",
      "continued\n",
      "over\n",
      "succeeding\n"
     ]
    }
   ],
   "source": [
    "new_words = []\n",
    "\n",
    "\n",
    "for i, word in enumerate(words):\n",
    "    \n",
    "    if(tagged[i][1] == 'NNP' or tagged[i][1] == 'DT'):\n",
    "        new_words.append(word)\n",
    "        continue;\n",
    "        \n",
    "    if(word[0] in string.punctuation):\n",
    "        new_words.append(word)\n",
    "        continue\n",
    "        \n",
    "    if(random.choice([0,0,0,0,0,1,1,1,1,1]) == 0):\n",
    "        ## do not replace\n",
    "        new_words.append(word)\n",
    "    else:\n",
    "        print(word)\n",
    "        syns = get_synonyms(word)\n",
    "        if(len(syns)>=1):\n",
    "            new_words.append(random.choice(syns))\n",
    "        ## replace word with synonymn\n",
    "        "
   ]
  },
  {
   "cell_type": "code",
   "execution_count": 81,
   "metadata": {},
   "outputs": [
    {
     "name": "stdout",
     "output_type": "stream",
     "text": [
      "['The', 'jessye norman', '(', 'Norman', ':', 'Nourmands', ';', 'french people', ':', ';', 'Latin', ':', ')', 'equal', 'the', 'the great unwashed', 'world health organization', 'in', 'the', '10th', 'and', 'eleventh', 'c', 'gave', 'appoint', 'Normandy', ',', 'a', 'area', 'in', 'France', '.', 'They', 'were', 'descended', 'Norse', '(', '``', 'Norman', \"''\", 'comes', 'from', '``', 'Norseman', \"''\", ')', 'raiders', 'literary pirate', 'from', 'Denmark', ',', 'Iceland', 'and', 'Norway', 'world health organization', ',', 'under', 'their', 'leader', 'Rollo', ',', 'accord', 'swear', 'fealty', 'King', 'Charles', 'III', 'West', 'Francia', '.', 'through and through', 'generations', 'of', 'absorption', 'and', 'mix', 'the', 'native', 'Frankish', 'Roman-Gaulish', 'populations', ',', 'their', 'descendent', 'would', 'gradually', 'merge', 'with', 'the', 'Carolingian-based', 'culture', 'West', 'Francia', '.', 'The', 'distinct', 'ethnic', 'and', 'ethnic', 'indistinguishability', 'of', 'the', 'Normans', 'come forth', 'ab initio', 'inwards', 'the', 'first', 'half', 'the', '10th', 'c', ',', 'information technology', 'stay', 'to', 'evolve', 'concluded', 'the', 'come after', 'centuries', '.']\n"
     ]
    }
   ],
   "source": [
    "print(new_words)"
   ]
  },
  {
   "cell_type": "code",
   "execution_count": 82,
   "metadata": {},
   "outputs": [
    {
     "data": {
      "text/plain": [
       "'The Normans (Norman: Nourmands; French: Normands; Latin: Normanni) were the people who in the 10th and 11th centuries gave their name to Normandy, a region in France. They were descended from Norse (\"Norman\" comes from \"Norseman\") raiders and pirates from Denmark, Iceland and Norway who, under their leader Rollo, agreed to swear fealty to King Charles III of West Francia. Through generations of assimilation and mixing with the native Frankish and Roman-Gaulish populations, their descendants would gradually merge with the Carolingian-based cultures of West Francia. The distinct cultural and ethnic identity of the Normans emerged initially in the first half of the 10th century, and it continued to evolve over the succeeding centuries.'"
      ]
     },
     "execution_count": 82,
     "metadata": {},
     "output_type": "execute_result"
    }
   ],
   "source": [
    "contexts[0]"
   ]
  },
  {
   "cell_type": "code",
   "execution_count": 83,
   "metadata": {},
   "outputs": [
    {
     "data": {
      "text/plain": [
       "'The jessye norman (Norman: Nourmands; french people :; Latin :) equal the the great unwashed world health organization in the 10th and eleventh c gave appoint Normandy, a area in France . They were descended Norse (`` Norman\"comes from``Norseman\") raiders literary pirate from Denmark, Iceland and Norway world health organization, under their leader Rollo, accord swear fealty King Charles III West Francia . through and through generations of absorption and mix the native Frankish Roman-Gaulish populations, their descendent would gradually merge with the Carolingian-based culture West Francia . The distinct ethnic and ethnic indistinguishability of the Normans come forth ab initio inwards the first half the 10th c, information technology stay to evolve concluded the come after centuries.'"
      ]
     },
     "execution_count": 83,
     "metadata": {},
     "output_type": "execute_result"
    }
   ],
   "source": [
    "TreebankWordDetokenizer().detokenize(new_words)"
   ]
  },
  {
   "cell_type": "code",
   "execution_count": 84,
   "metadata": {},
   "outputs": [
    {
     "data": {
      "text/plain": [
       "'The Norman dynasty had a major political, cultural and military impact on medieval Europe and even the Near East. The Normans were famed for their martial spirit and eventually for their Christian piety, becoming exponents of the Catholic orthodoxy into which they assimilated. They adopted the Gallo-Romance language of the Frankish land they settled, their dialect becoming known as Norman, Normaund or Norman French, an important literary language. The Duchy of Normandy, which they formed by treaty with the French crown, was a great fief of medieval France, and under Richard I of Normandy was forged into a cohesive and formidable principality in feudal tenure. The Normans are noted both for their culture, such as their unique Romanesque architecture and musical traditions, and for their significant military accomplishments and innovations. Norman adventurers founded the Kingdom of Sicily under Roger II after conquering southern Italy on the Saracens and Byzantines, and an expedition on behalf of their duke, William the Conqueror, led to the Norman conquest of England at the Battle of Hastings in 1066. Norman cultural and military influence spread from these new European centres to the Crusader states of the Near East, where their prince Bohemond I founded the Principality of Antioch in the Levant, to Scotland and Wales in Great Britain, to Ireland, and to the coasts of north Africa and the Canary Islands.'"
      ]
     },
     "execution_count": 84,
     "metadata": {},
     "output_type": "execute_result"
    }
   ],
   "source": [
    "contexts[1]"
   ]
  },
  {
   "cell_type": "code",
   "execution_count": 89,
   "metadata": {},
   "outputs": [],
   "source": [
    "tokenized_words = word_tokenize(contexts[1])"
   ]
  },
  {
   "cell_type": "code",
   "execution_count": 90,
   "metadata": {},
   "outputs": [],
   "source": [
    "tagged = nltk.pos_tag(tokenized_words)"
   ]
  },
  {
   "cell_type": "code",
   "execution_count": 91,
   "metadata": {},
   "outputs": [
    {
     "name": "stdout",
     "output_type": "stream",
     "text": [
      "dynasty\n",
      "had\n",
      "major\n",
      "and\n",
      "military\n",
      "on\n",
      "medieval\n",
      "even\n",
      "Normans\n",
      "were\n",
      "famed\n",
      "spirit\n",
      "eventually\n",
      "their\n",
      "piety\n",
      "exponents\n",
      "of\n",
      "into\n",
      "which\n",
      "of\n",
      "land\n",
      "settled\n",
      "known\n",
      "as\n",
      "important\n",
      "literary\n",
      "of\n",
      "by\n",
      "treaty\n",
      "with\n",
      "was\n",
      "fief\n",
      "and\n",
      "under\n",
      "of\n",
      "cohesive\n",
      "and\n",
      "formidable\n",
      "principality\n",
      "tenure\n",
      "Normans\n",
      "for\n",
      "such\n",
      "unique\n",
      "architecture\n",
      "and\n",
      "musical\n",
      "and\n",
      "significant\n",
      "military\n",
      "accomplishments\n",
      "innovations\n",
      "adventurers\n",
      "founded\n",
      "of\n",
      "under\n",
      "after\n",
      "behalf\n",
      "their\n",
      "conquest\n",
      "of\n",
      "cultural\n",
      "and\n",
      "military\n",
      "influence\n",
      "spread\n",
      "from\n",
      "centres\n",
      "to\n",
      "of\n",
      "where\n",
      "I\n",
      "in\n",
      "and\n",
      "to\n"
     ]
    }
   ],
   "source": [
    "new_words = []\n",
    "\n",
    "\n",
    "for i, word in enumerate(tokenized_words):\n",
    "    \n",
    "    if(tagged[i][1] == 'NNP' or tagged[i][1] == 'DT'):\n",
    "        new_words.append(word)\n",
    "        continue;\n",
    "        \n",
    "    if(word[0] in string.punctuation):\n",
    "        new_words.append(word)\n",
    "        continue\n",
    "        \n",
    "    if(random.choice([0,0,0,0,0,1,1,1,1,1]) == 0):\n",
    "        ## do not replace\n",
    "        new_words.append(word)\n",
    "    else:\n",
    "        print(word)\n",
    "        syns = get_synonyms(word)\n",
    "        if(len(syns)>=1):\n",
    "            new_words.append(random.choice(syns))"
   ]
  },
  {
   "cell_type": "code",
   "execution_count": 92,
   "metadata": {},
   "outputs": [
    {
     "data": {
      "text/plain": [
       "'The Norman experience a john r major political, cultural military machine impact along chivalric Europe and yet the Near East . The greg norman represent far famed for their martial flavour and finally for Christian piousness, becoming advocator the Catholic orthodoxy they assimilated . They adopted the Gallo-Romance language the Frankish set down they conciliate, their dialect becoming sleep together american samoa Norman, Normaund or Norman French, an crucial language . The Duchy Normandy, which they formed away accord the French crown, personify a great feoff of medieval France, nether Richard I Normandy was forged into a redoubtable princedom in feudal incumbency . The jessye norman are noted both their culture, as their singular Romanesque computer architecture musical theater traditions, for their meaning war machine acquisition and creation . Norman venturer base the Kingdom Sicily nether Roger II afterward conquering southern Italy on the Saracens and Byzantines, and an expedition on of duke, William the Conqueror, led to the Norman conquering England at the Battle of Hastings in 1066 . Norman ethnical armed forces shape go around these new European heart the Crusader states the Near East, their prince Bohemond iodin founded the Principality of Antioch indium the Levant, to Scotland and Wales in Great Britain, to Ireland, the coasts of north Africa and the Canary Islands.'"
      ]
     },
     "execution_count": 92,
     "metadata": {},
     "output_type": "execute_result"
    }
   ],
   "source": [
    "TreebankWordDetokenizer().detokenize(new_words)"
   ]
  },
  {
   "cell_type": "code",
   "execution_count": 94,
   "metadata": {},
   "outputs": [],
   "source": [
    "def get_augmented_replaced(sentence):\n",
    "    tokenized_words = word_tokenize(sentence)\n",
    "    tagged = nltk.pos_tag(tokenized_words)\n",
    "    new_words = []\n",
    "    \n",
    "    for i, word in enumerate(tokenized_words):\n",
    "\n",
    "        if(tagged[i][1] == 'NNP' or tagged[i][1] == 'DT'):\n",
    "            new_words.append(word)\n",
    "            continue;\n",
    "\n",
    "        if(word[0] in string.punctuation):\n",
    "            new_words.append(word)\n",
    "            continue\n",
    "\n",
    "        if(random.choice([0,0,0,0,0,1,1,1,1,1]) == 0):\n",
    "            new_words.append(word)\n",
    "        else:\n",
    "            syns = get_synonyms(word)\n",
    "            if(len(syns)>=1):\n",
    "                new_words.append(random.choice(syns))\n",
    "                \n",
    "    return TreebankWordDetokenizer().detokenize(new_words)"
   ]
  },
  {
   "cell_type": "code",
   "execution_count": 95,
   "metadata": {},
   "outputs": [
    {
     "data": {
      "text/plain": [
       "'The English key out``jessye norman\"comes the gallic christian bible Normans/Normanz, plural form of Normant, modern gallic normand, cost take over from Old Low Franconian Nortmann``Northman\"or flat Old Norse Norðmaðr, Latinized multifariously angstrom unit Nortmannus, Normannus, operating theater Nordmannus (enter inch Medieval Latin , 9th one c) meanspirited``Norseman, Viking\".'"
      ]
     },
     "execution_count": 95,
     "metadata": {},
     "output_type": "execute_result"
    }
   ],
   "source": [
    "get_augmented_replaced(contexts[2])"
   ]
  },
  {
   "cell_type": "code",
   "execution_count": 96,
   "metadata": {},
   "outputs": [
    {
     "data": {
      "text/plain": [
       "'The English name \"Normans\" comes from the French words Normans/Normanz, plural of Normant, modern French normand, which is itself borrowed from Old Low Franconian Nortmann \"Northman\" or directly from Old Norse Norðmaðr, Latinized variously as Nortmannus, Normannus, or Nordmannus (recorded in Medieval Latin, 9th century) to mean \"Norseman, Viking\".'"
      ]
     },
     "execution_count": 96,
     "metadata": {},
     "output_type": "execute_result"
    }
   ],
   "source": [
    "contexts[2]"
   ]
  },
  {
   "cell_type": "code",
   "execution_count": 99,
   "metadata": {},
   "outputs": [],
   "source": [
    "for x in d[\"data\"]:\n",
    "    for y in x[\"paragraphs\"]:\n",
    "        y[\"context\"] = get_augmented_replaced(y[\"context\"])"
   ]
  },
  {
   "cell_type": "code",
   "execution_count": 100,
   "metadata": {},
   "outputs": [
    {
     "data": {
      "text/plain": [
       "'The norman (Norman :; French: Normands; Latin :) were the multitude who indium the 10th and eleventh  collapse name to Normandy, a area atomic number  France . make up condescend Norse (`` Norman\"number``Norseman\") raiders pirates from Denmark, Iceland and Norway who, under their loss leader Rollo, agreed swear allegiance to King Charles III of West Francia . Through genesis of assimilation mingle the native Frankish population, their descendants would bit by bit fuse the cultures West Francia . The discrete cultural and ethnic indistinguishability of the greg norman emerged initially in the first base half of the tenth hundred, information technology continued to germinate ended the succeeding centuries.'"
      ]
     },
     "execution_count": 100,
     "metadata": {},
     "output_type": "execute_result"
    }
   ],
   "source": [
    "d[\"data\"][0][\"paragraphs\"][0][\"context\"]"
   ]
  },
  {
   "cell_type": "code",
   "execution_count": 101,
   "metadata": {},
   "outputs": [],
   "source": [
    "with open('result.json', 'w') as fp:\n",
    "    json.dump(d, fp)"
   ]
  },
  {
   "cell_type": "code",
   "execution_count": null,
   "metadata": {},
   "outputs": [],
   "source": []
  }
 ],
 "metadata": {
  "kernelspec": {
   "display_name": "Python 3",
   "language": "python",
   "name": "python3"
  },
  "language_info": {
   "codemirror_mode": {
    "name": "ipython",
    "version": 3
   },
   "file_extension": ".py",
   "mimetype": "text/x-python",
   "name": "python",
   "nbconvert_exporter": "python",
   "pygments_lexer": "ipython3",
   "version": "3.8.5"
  }
 },
 "nbformat": 4,
 "nbformat_minor": 4
}

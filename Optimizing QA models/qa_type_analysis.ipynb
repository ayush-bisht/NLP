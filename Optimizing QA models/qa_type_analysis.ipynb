{
  "nbformat": 4,
  "nbformat_minor": 0,
  "metadata": {
    "colab": {
      "name": "qa_type_analysis.ipynb",
      "provenance": []
    },
    "kernelspec": {
      "name": "python3",
      "display_name": "Python 3"
    }
  },
  "cells": [
    {
      "cell_type": "code",
      "metadata": {
        "id": "xOaKRjEp4-Bz"
      },
      "source": [
        "import torch\n",
        "import json\n",
        "from pprint import pprint\n",
        "import regex as re\n",
        "import collections\n",
        "import matplotlib.pyplot as plt\n",
        "from pathlib import Path"
      ],
      "execution_count": null,
      "outputs": []
    },
    {
      "cell_type": "code",
      "metadata": {
        "id": "M3orS9gR6ShU",
        "outputId": "60af679a-895d-4f38-abca-bd2f5dad1f0e",
        "colab": {
          "base_uri": "https://localhost:8080/"
        }
      },
      "source": [
        "! mkdir squad\n",
        "! wget https://rajpurkar.github.io/SQuAD-explorer/dataset/train-v2.0.json -O squad/train-v2.0.json\n",
        "! wget https://rajpurkar.github.io/SQuAD-explorer/dataset/dev-v2.0.json -O squad/dev-v2.0.json"
      ],
      "execution_count": null,
      "outputs": [
        {
          "output_type": "stream",
          "text": [
            "mkdir: cannot create directory ‘squad’: File exists\n",
            "--2020-11-14 18:59:48--  https://rajpurkar.github.io/SQuAD-explorer/dataset/train-v2.0.json\n",
            "Resolving rajpurkar.github.io (rajpurkar.github.io)... 185.199.108.153, 185.199.109.153, 185.199.110.153, ...\n",
            "Connecting to rajpurkar.github.io (rajpurkar.github.io)|185.199.108.153|:443... connected.\n",
            "HTTP request sent, awaiting response... 200 OK\n",
            "Length: 42123633 (40M) [application/json]\n",
            "Saving to: ‘squad/train-v2.0.json’\n",
            "\n",
            "squad/train-v2.0.js 100%[===================>]  40.17M  83.7MB/s    in 0.5s    \n",
            "\n",
            "2020-11-14 18:59:49 (83.7 MB/s) - ‘squad/train-v2.0.json’ saved [42123633/42123633]\n",
            "\n",
            "--2020-11-14 18:59:49--  https://rajpurkar.github.io/SQuAD-explorer/dataset/dev-v2.0.json\n",
            "Resolving rajpurkar.github.io (rajpurkar.github.io)... 185.199.108.153, 185.199.109.153, 185.199.110.153, ...\n",
            "Connecting to rajpurkar.github.io (rajpurkar.github.io)|185.199.108.153|:443... connected.\n",
            "HTTP request sent, awaiting response... 200 OK\n",
            "Length: 4370528 (4.2M) [application/json]\n",
            "Saving to: ‘squad/dev-v2.0.json’\n",
            "\n",
            "squad/dev-v2.0.json 100%[===================>]   4.17M  --.-KB/s    in 0.1s    \n",
            "\n",
            "2020-11-14 18:59:49 (35.7 MB/s) - ‘squad/dev-v2.0.json’ saved [4370528/4370528]\n",
            "\n"
          ],
          "name": "stdout"
        }
      ]
    },
    {
      "cell_type": "code",
      "metadata": {
        "id": "ma1DtGAZ7V9C"
      },
      "source": [
        "def read_squad(path):\n",
        "    path = Path(path)\n",
        "    with open(path, 'rb') as f:\n",
        "        squad_dict = json.load(f)\n",
        "\n",
        "    contexts = []\n",
        "    questions = []\n",
        "    for group in squad_dict['data']:\n",
        "      for passage in group['paragraphs']:\n",
        "        context = passage['context']\n",
        "        for qa in passage['qas']:\n",
        "          question = qa['question']\n",
        "          questions.append(question)\n",
        "            \n",
        "        \n",
        "      \n",
        "    return questions\n"
      ],
      "execution_count": null,
      "outputs": []
    },
    {
      "cell_type": "code",
      "metadata": {
        "id": "vAgY78fS9Fb8"
      },
      "source": [
        "def question_type(question):\n",
        "  type_of_questions = ('who', 'whom', 'how', 'which', 'whose', 'where', 'when', 'what')\n",
        "  q_type = \"other\"\n",
        "  for q in type_of_questions:\n",
        "    temp_type = re.findall(q, question.lower())\n",
        "    if len(temp_type) > 0:\n",
        "      q_type = q\n",
        "      if q_type == 'whom':  q_type = 'who'\n",
        "      return q_type\n",
        "  return q_type"
      ],
      "execution_count": null,
      "outputs": []
    },
    {
      "cell_type": "code",
      "metadata": {
        "id": "pqHwXCQY8Aev"
      },
      "source": [
        "train_questions = read_squad('squad/train-v2.0.json')\n",
        "val_questions = read_squad('squad/dev-v2.0.json')\n",
        "questions = train_questions + val_questions"
      ],
      "execution_count": null,
      "outputs": []
    },
    {
      "cell_type": "code",
      "metadata": {
        "id": "T75SSdAr_IZy"
      },
      "source": [
        "question_type_count = {}\n",
        "for question in questions:\n",
        "  q_type = question_type(question)\n",
        "  question_type_count[q_type] = question_type_count.get(q_type, 0) + 1"
      ],
      "execution_count": null,
      "outputs": []
    },
    {
      "cell_type": "code",
      "metadata": {
        "id": "bcUInB7hGrv4",
        "outputId": "707aa583-fd49-4cd2-ba10-4b0a5bd4902f",
        "colab": {
          "base_uri": "https://localhost:8080/"
        }
      },
      "source": [
        "print(question_type_count)"
      ],
      "execution_count": null,
      "outputs": [
        {
          "output_type": "stream",
          "text": [
            "{'when': 10114, 'what': 81340, 'which': 9082, 'who': 16128, 'how': 15635, 'where': 5982, 'other': 3911}\n"
          ],
          "name": "stdout"
        }
      ]
    },
    {
      "cell_type": "code",
      "metadata": {
        "id": "tHcy6ES_Fudq"
      },
      "source": [
        "question_type_count = {k: v for k, v in sorted(question_type_count.items(), key=lambda item: item[1])}\n"
      ],
      "execution_count": null,
      "outputs": []
    },
    {
      "cell_type": "code",
      "metadata": {
        "id": "jObyDxk6_-Xi",
        "outputId": "b9b9422e-55f4-497a-9284-50c29928ac8a",
        "colab": {
          "base_uri": "https://localhost:8080/",
          "height": 468
        }
      },
      "source": [
        "# Pie chart, where the slices will be ordered and plotted counter-clockwise:\n",
        "labels = question_type_count.keys()\n",
        "sizes = question_type_count.values()\n",
        "\n",
        "# Creating explode data \n",
        "explode = [0.2, 0.2, 0, 0, 0, 0, 0]\n",
        " \n",
        "fig1, ax1 = plt.subplots(figsize=(8,8))\n",
        "wedges, texts, autotexts = ax1.pie(sizes, labels=labels, autopct='%0.1f%%',\n",
        "                                   pctdistance=0.8, labeldistance=1.1, shadow=False, startangle=90, explode=explode)\n",
        "ax1.axis('equal')  # Equal aspect ratio ensures that pie is drawn as a circle.\n",
        "  \n",
        "# Adding legend \n",
        "ax1.legend(wedges, labels, \n",
        "          title =\"question type\", \n",
        "          loc = 'center',\n",
        "          bbox_to_anchor =(1, 0, 0.5, 1)) \n",
        "  \n",
        "plt.setp(autotexts, size = 8, weight =\"bold\") \n",
        "\n",
        "fig1.patch.set_facecolor('white')\n",
        "plt.show()"
      ],
      "execution_count": null,
      "outputs": [
        {
          "output_type": "display_data",
          "data": {
            "image/png": "[encoded data removed]",
            "text/plain": [
              "<Figure size 576x576 with 1 Axes>"
            ]
          },
          "metadata": {
            "tags": []
          }
        }
      ]
    },
    {
      "cell_type": "code",
      "metadata": {
        "id": "_4J8hEipBAnj"
      },
      "source": [
        ""
      ],
      "execution_count": null,
      "outputs": []
    }
  ]
}